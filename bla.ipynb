{
 "cells": [
  {
   "cell_type": "markdown",
   "id": "ab2eebb0-954a-489c-9d64-78402e412772",
   "metadata": {
    "slideshow": {
     "slide_type": "slide"
    }
   },
   "source": [
    "# Jupyter Notebooks už jen ve vědě\n",
    "\n",
    "## Aleš Křenek\n",
    "\n",
    "### ÚVT MU"
   ]
  },
  {
   "cell_type": "markdown",
   "id": "43484611-0770-4f5e-9e4c-c6441fb8201d",
   "metadata": {
    "slideshow": {
     "slide_type": "slide"
    }
   },
   "source": [
    "## Lenost nade vše\n",
    "\n",
    "- nebudu vymýšlet nic nového, recykluji existující materiál\n",
    "- zkušeností s vlatním nepořádkem k tomu mám dost\n",
    "- aplikace, které z toho vyrostly\n"
   ]
  },
  {
   "cell_type": "markdown",
   "id": "b69711c5-751e-4fde-acb4-1411f4976a30",
   "metadata": {
    "slideshow": {
     "slide_type": "slide"
    }
   },
   "source": [
    "## Tato prezentace je také Jupyter Notebook"
   ]
  },
  {
   "cell_type": "markdown",
   "id": "24bbb544-eb3e-4c36-a934-9b33f435909b",
   "metadata": {},
   "source": [
    "- můžeme ji prokládat živým kódem"
   ]
  },
  {
   "cell_type": "code",
   "execution_count": null,
   "id": "7b881854-b214-4c9e-a6e0-9cd289db790b",
   "metadata": {},
   "outputs": [],
   "source": [
    "from decimal import Decimal,getcontext\n",
    "getcontext().prec=100\n",
    "Decimal(1).exp()"
   ]
  },
  {
   "cell_type": "markdown",
   "id": "256914f4-5792-4a24-bb94-6170df5332cc",
   "metadata": {},
   "source": [
    "- není nejkrásnější, přestal mi fungovat můj CSS"
   ]
  },
  {
   "cell_type": "markdown",
   "id": "9aeedb24-81ea-4f53-b267-c2b301cbac50",
   "metadata": {
    "slideshow": {
     "slide_type": "slide"
    }
   },
   "source": [
    "### Dockerfile (podstatné části)\n",
    "\n",
    "```\n",
    "FROM cerit.io/ljocha/gromacs:2023-2-plumed-2-9-afed-pytorch-model-cv as gmx\n",
    "FROM quay.io/jupyter/base-notebook\n",
    "\n",
    "USER 0\n",
    "RUN apt update && apt install -y ...\n",
    "\n",
    "RUN pip install nglview mdtraj \n",
    "RUN pip install jupyterlab_rise\n",
    "\n",
    "RUN cd /tmp && git clone --single-branch -b k8s https://github.com/ljocha/GromacsWrapper.git && pip install ./GromacsWrapper\n",
    "\n",
    "COPY --from=gmx /gromacs /gromacs\n",
    "\n",
    "USER ${NB_USER}\n",
    "```"
   ]
  },
  {
   "cell_type": "code",
   "execution_count": null,
   "id": "dd4d6d35-216f-4fe8-9987-9882d02df7d6",
   "metadata": {
    "slideshow": {
     "slide_type": "slide"
    }
   },
   "outputs": [],
   "source": [
    "def _fw(v):\n",
    "    v.layout.display = 'flex'\n",
    "    v.layout.width = '100%'\n",
    "    v.handle_resize()\n",
    "    return v"
   ]
  },
  {
   "cell_type": "code",
   "execution_count": null,
   "id": "57f11627-1c35-4c9c-9e78-4614a60308a6",
   "metadata": {
    "slideshow": {
     "slide_type": "-"
    }
   },
   "outputs": [],
   "source": [
    "import mdtraj as md\n",
    "import nglview as nv"
   ]
  },
  {
   "cell_type": "markdown",
   "id": "1b98e5e3-9212-41f0-9200-256890fd0acc",
   "metadata": {
    "slideshow": {
     "slide_type": "slide"
    }
   },
   "source": [
    "## Molekulární dynamika"
   ]
  },
  {
   "cell_type": "code",
   "execution_count": null,
   "id": "922dca33-0cf8-4134-b0fd-1c516b8fa249",
   "metadata": {
    "slideshow": {
     "slide_type": "-"
    }
   },
   "outputs": [],
   "source": [
    "tr = md.load('pbc.xtc',top=f'6pxm-box.gro')\n",
    "_fw(nv.show_mdtraj(tr))"
   ]
  },
  {
   "cell_type": "markdown",
   "id": "c5738439-b0e0-45f1-ae5d-a9b901d83705",
   "metadata": {
    "slideshow": {
     "slide_type": "-"
    }
   },
   "source": []
  },
  {
   "cell_type": "markdown",
   "id": "1a49390a-03d3-44ff-9bfd-cc40f6a68cc1",
   "metadata": {
    "slideshow": {
     "slide_type": "slide"
    }
   },
   "source": [
    "## Standardní simulace proteinu\n",
    "Podle tutoriálu http://www.mdtutorials.com/gmx/lysozyme/"
   ]
  },
  {
   "cell_type": "markdown",
   "id": "004d2dc4-4876-4b7b-965b-2af73f389b3d",
   "metadata": {
    "slideshow": {
     "slide_type": "-"
    }
   },
   "source": [
    "### 1. Vstupní data\n",
    "Stáhneme vhodný soubor z veřejné databáze PDB. Pro demo účely poslouží  obvyklý pokusný králík _tryptophan cage_ (1L2Y) -- malý protein s netriviální strukturou."
   ]
  },
  {
   "cell_type": "code",
   "execution_count": null,
   "id": "8920a03c-b5da-4379-a602-0c98e0109aa1",
   "metadata": {
    "slideshow": {
     "slide_type": "-"
    }
   },
   "outputs": [],
   "source": [
    "import urllib\n",
    "pdb='1l2y'"
   ]
  },
  {
   "cell_type": "code",
   "execution_count": null,
   "id": "0a404c3d-548c-466e-83a6-8fdab01d23a4",
   "metadata": {
    "slideshow": {
     "slide_type": "-"
    }
   },
   "outputs": [],
   "source": [
    "urllib.request.urlretrieve(f'https://files.rcsb.org/download/{pdb}.pdb',f'{pdb}.pdb')\n",
    "_fw(nv.show_file(f'{pdb}.pdb'))"
   ]
  },
  {
   "cell_type": "markdown",
   "id": "7e6b0ceb",
   "metadata": {},
   "source": []
  },
  {
   "cell_type": "markdown",
   "id": "a7f0e1fe-a646-4943-b28a-97ac5ae4d832",
   "metadata": {
    "slideshow": {
     "slide_type": "slide"
    }
   },
   "source": [
    "### 2. Příprava molekuly k simulaci\n",
    "- zpracování formátu pdb, specifikace modelu solventu a silového pole\n",
    "- definice simulačního boxu\n",
    "- přidání solventu"
   ]
  },
  {
   "cell_type": "code",
   "execution_count": null,
   "id": "6a989b62-6249-49ea-9dd7-d843382a8880",
   "metadata": {},
   "outputs": [],
   "source": [
    "import gromacs as gmx"
   ]
  },
  {
   "cell_type": "code",
   "execution_count": null,
   "id": "773a2b21-c78a-48e1-8596-dd085f91730e",
   "metadata": {
    "slideshow": {
     "slide_type": "-"
    }
   },
   "outputs": [],
   "source": [
    "gmx.pdb2gmx(f=pdb+'.pdb',o=pdb+'.gro',water='tip3p',ff='amber99',p=pdb+'.top',ignh=True)"
   ]
  },
  {
   "cell_type": "code",
   "execution_count": null,
   "id": "5706f48b-458f-40cc-800d-b606dd5a9839",
   "metadata": {
    "scrolled": true,
    "slideshow": {
     "slide_type": "-"
    }
   },
   "outputs": [],
   "source": [
    "gmx.editconf(f=pdb+'.gro',o=pdb+'-box.gro',c=True,d='2.5', bt='cubic')"
   ]
  },
  {
   "cell_type": "code",
   "execution_count": null,
   "id": "ca5693b9-9ba7-4dc0-a827-561eb7c61d86",
   "metadata": {
    "slideshow": {
     "slide_type": "-"
    }
   },
   "outputs": [],
   "source": [
    "gmx.solvate(cp=pdb+'-box.gro',cs='spc216.gro',o=pdb+'-solv.gro',p=pdb+'.top')"
   ]
  },
  {
   "cell_type": "code",
   "execution_count": null,
   "id": "d3d31c0e-d142-4081-a38e-144b8e3fc258",
   "metadata": {
    "slideshow": {
     "slide_type": "slide"
    }
   },
   "outputs": [],
   "source": [
    "v=nv.show_file(f'{pdb}-solv.gro',default_representation=False)\n",
    "v.add_ball_and_stick('protein')\n",
    "v.add_cartoon('protein',color='rainbow')\n",
    "v.add_line('water',color='grey')\n",
    "_fw(v)"
   ]
  },
  {
   "cell_type": "code",
   "execution_count": null,
   "id": "ed48e94e-1d51-4e23-bc73-a90fff1ff73e",
   "metadata": {},
   "outputs": [],
   "source": []
  },
  {
   "cell_type": "markdown",
   "id": "7595e54d",
   "metadata": {
    "slideshow": {
     "slide_type": "slide"
    }
   },
   "source": [
    "### 3. Přidání iontů\n",
    "- vytvoření fyziologického roztoku\n",
    "- vyrovnání náboje proteinu"
   ]
  },
  {
   "cell_type": "code",
   "execution_count": null,
   "id": "5d72c54f-dc29-4b8b-b753-d81f75515dc8",
   "metadata": {
    "slideshow": {
     "slide_type": "-"
    }
   },
   "outputs": [],
   "source": [
    "with open('ions.mdp','w') as ions: ions.write(\"\"\"\\\n",
    "integrator  = steep         ; Algorithm (steep = steepest descent minimization)\n",
    "emtol       = 1000.0        ; Stop minimization when the maximum force < 1000.0 kJ/mol/nm\n",
    "emstep      = 0.01          ; Minimization step size\n",
    "nsteps      = 50000         ; Maximum number of (minimization) steps to perform\n",
    "\n",
    "nstlist         = 1         ; Frequency to update the neighbor list and long range forces\n",
    "cutoff-scheme\t= Verlet    ; Buffered neighbor searching \n",
    "ns_type         = grid      ; Method to determine neighbor list (simple, grid)\n",
    "coulombtype     = cutoff    ; Treatment of long range electrostatic interactions\n",
    "rcoulomb        = 1.0       ; Short-range electrostatic cut-off\n",
    "rvdw            = 1.0       ; Short-range Van der Waals cut-off\n",
    "pbc             = xyz       ; Periodic Boundary Conditions in all 3 dimensions\n",
    "\"\"\")\n",
    "    \n",
    "gmx.grompp(f='ions.mdp',c=pdb+'-solv.gro',p=pdb+'.top',o='ions.tpr')"
   ]
  },
  {
   "cell_type": "code",
   "execution_count": null,
   "id": "9ef49f50-5f75-431e-89cd-aa8f66999fd5",
   "metadata": {
    "slideshow": {
     "slide_type": "-"
    }
   },
   "outputs": [],
   "source": [
    "gmx.select(s=pdb+'-solv.gro',on='solv.ndx',select='SOL')\n",
    "gmx.genion(s='ions.tpr',n='solv.ndx',o=pdb+'-ions.gro',p=pdb+'.top',pname='NA',nname='CL',neutral=True,conc=0.15)"
   ]
  },
  {
   "cell_type": "code",
   "execution_count": null,
   "id": "1b69019c-8e4f-4ac0-8388-26eff1d76f61",
   "metadata": {
    "slideshow": {
     "slide_type": "slide"
    }
   },
   "outputs": [],
   "source": [
    "v=nv.show_file(f'{pdb}-ions.gro',default_representation=False)\n",
    "v.add_ball_and_stick('protein')\n",
    "v.add_cartoon('protein',color='white')\n",
    "v.add_line('water',color='grey')\n",
    "v.add_ball_and_stick(\"_Na\")\n",
    "v.add_ball_and_stick(\"_Cl\")\n",
    "_fw(v)"
   ]
  },
  {
   "cell_type": "markdown",
   "id": "9662938c",
   "metadata": {},
   "source": []
  },
  {
   "cell_type": "markdown",
   "id": "7db31a1e-7444-4662-8ba7-026fd1d7cff4",
   "metadata": {
    "slideshow": {
     "slide_type": "slide"
    }
   },
   "source": [
    "### 4. Minimalizace energie před startem simulace\n",
    "Uměle vytvořený systém musí být blízko rovnovážného stavu, jinak hrozí nestability. "
   ]
  },
  {
   "cell_type": "code",
   "execution_count": null,
   "id": "05da25b5-0924-440c-bfb0-30dd2c9878a4",
   "metadata": {
    "slideshow": {
     "slide_type": "-"
    }
   },
   "outputs": [],
   "source": [
    "with open('minim.mdp','w') as m: m.write(\"\"\"\\\n",
    "integrator  = steep         ; Algorithm (steep = steepest descent minimization)\n",
    "emtol       = 1000.0        ; Stop minimization when the maximum force < 1000.0 kJ/mol/nm\n",
    "emstep      = 0.005          ; Minimization step size\n",
    "nsteps      = 50000         ; Maximum number of (minimization) steps to perform\n",
    "\n",
    "nstlist         = 1         ; Frequency to update the neighbor list and long range forces\n",
    "cutoff-scheme   = Verlet    ; Buffered neighbor searching\n",
    "ns_type         = grid      ; Method to determine neighbor list (simple, grid)\n",
    "coulombtype     = PME       ; Treatment of long range electrostatic interactions\n",
    "rcoulomb        = 1.0       ; Short-range electrostatic cut-off\n",
    "rvdw            = 1.0       ; Short-range Van der Waals cut-off\n",
    "pbc             = xyz       ; Periodic Boundary Conditions in all 3 dimensions\n",
    "\n",
    "nstxout                 = 10         \n",
    "nstvout                 = 0        \n",
    "nstfout                 = 0\n",
    "nstenergy               = 10         \n",
    "\"\"\")\n",
    "gmx.grompp(f='minim.mdp',c=pdb+'-ions.gro',p=pdb+'.top',o='em.tpr')"
   ]
  },
  {
   "cell_type": "code",
   "execution_count": null,
   "id": "0021e70f-266e-46ed-94f9-5d2cc742c543",
   "metadata": {},
   "outputs": [],
   "source": [
    "gmx.mdrun(deffnm='em')"
   ]
  },
  {
   "cell_type": "markdown",
   "id": "d25871fd-578e-47ca-b3d4-0efb04692e82",
   "metadata": {
    "slideshow": {
     "slide_type": "slide"
    }
   },
   "source": [
    "### 5. Ekvilibrace\n",
    "- molekula proteinu zůstává fixovaná\n",
    "- molekulám vody je uměle přiřazena počáteční rychlost\n",
    "- celý systém se ve dvou krocích postupně \"zahřeje\" a \"natlakuje\" do požadovaného stavu"
   ]
  },
  {
   "cell_type": "code",
   "execution_count": null,
   "id": "2a9c892f-61d9-4c7f-bbd8-dc3e5167e657",
   "metadata": {},
   "outputs": [],
   "source": [
    "with open('nvt.mdp','w') as nvt: nvt.write('''\\\n",
    "title                   = OPLS Lysozyme NVT equilibration \n",
    "define                  = -DPOSRES  ; position restrain the protein\n",
    "; Run parameters\n",
    "integrator              = md        ; leap-frog integrator\n",
    "nsteps                  = 50000     ; 2 * 50000 = 100 ps\n",
    "dt                      = 0.002     ; 2 fs\n",
    "; Output control\n",
    "nstxout                 = 500       ; save coordinates every 1.0 ps\n",
    "nstvout                 = 500       ; save velocities every 1.0 ps\n",
    "nstenergy               = 500       ; save energies every 1.0 ps\n",
    "nstlog                  = 500       ; update log file every 1.0 ps\n",
    "; Bond parameters\n",
    "continuation            = no        ; first dynamics run\n",
    "constraint_algorithm    = lincs     ; holonomic constraints \n",
    "constraints             = h-bonds   ; bonds involving H are constrained\n",
    "lincs_iter              = 1         ; accuracy of LINCS\n",
    "lincs_order             = 4         ; also related to accuracy\n",
    "; Nonbonded settings \n",
    "cutoff-scheme           = Verlet    ; Buffered neighbor searching\n",
    "ns_type                 = grid      ; search neighboring grid cells\n",
    "nstlist                 = 10        ; 20 fs, largely irrelevant with Verlet\n",
    "rcoulomb                = 1.0       ; short-range electrostatic cutoff (in nm)\n",
    "rvdw                    = 1.0       ; short-range van der Waals cutoff (in nm)\n",
    "DispCorr                = EnerPres  ; account for cut-off vdW scheme\n",
    "; Electrostatics\n",
    "coulombtype             = PME       ; Particle Mesh Ewald for long-range electrostatics\n",
    "pme_order               = 4         ; cubic interpolation\n",
    "fourierspacing          = 0.16      ; grid spacing for FFT\n",
    "; Temperature coupling is on\n",
    "tcoupl                  = V-rescale             ; modified Berendsen thermostat\n",
    "tc-grps                 = Protein Non-Protein   ; two coupling groups - more accurate\n",
    "tau_t                   = 0.1     0.1           ; time constant, in ps\n",
    "ref_t                   = 300     300           ; reference temperature, one for each group, in K\n",
    "; Pressure coupling is off\n",
    "pcoupl                  = no        ; no pressure coupling in NVT\n",
    "; Periodic boundary conditions\n",
    "pbc                     = xyz       ; 3-D PBC\n",
    "; Velocity generation\n",
    "gen_vel                 = yes       ; assign velocities from Maxwell distribution\n",
    "gen_temp                = 300       ; temperature for Maxwell distribution\n",
    "gen_seed                = -1        ; generate a random seed\n",
    "''')"
   ]
  },
  {
   "cell_type": "code",
   "execution_count": null,
   "id": "25b8c9e1-cd70-4e34-89bb-0ba22ac81793",
   "metadata": {},
   "outputs": [],
   "source": [
    "gmx.grompp(f=\"nvt.mdp\",c=\"em.gro\",r=\"em.gro\",p=pdb+'.top',o=\"nvt.tpr\")"
   ]
  },
  {
   "cell_type": "code",
   "execution_count": null,
   "id": "4ebe2b7b-7d75-4745-ad87-aec9625668e1",
   "metadata": {},
   "outputs": [],
   "source": [
    "gmx.mdrun(deffnm='nvt')"
   ]
  },
  {
   "cell_type": "code",
   "execution_count": null,
   "id": "4cb9e2a7-72ee-4a36-bc9b-1dd390804c21",
   "metadata": {
    "slideshow": {
     "slide_type": "slide"
    }
   },
   "outputs": [],
   "source": [
    "with open('npt.mdp','w') as npt: npt.write('''\\\n",
    "define                  = -DPOSRES  ; position restrain the protein\n",
    "; Run parameters\n",
    "integrator              = md        ; leap-frog integrator\n",
    "nsteps                  = 50000     ; 2 * 50000 = 100 ps\n",
    "dt                      = 0.002     ; 2 fs\n",
    "; Output control\n",
    "nstxout                 = 500       ; save coordinates every 1.0 ps\n",
    "nstvout                 = 500       ; save velocities every 1.0 ps\n",
    "nstenergy               = 500       ; save energies every 1.0 ps\n",
    "nstlog                  = 500       ; update log file every 1.0 ps\n",
    "; Bond parameters\n",
    "continuation            = yes       ; Restarting after NVT \n",
    "constraint_algorithm    = lincs     ; holonomic constraints \n",
    "constraints             = h-bonds   ; bonds involving H are constrained\n",
    "lincs_iter              = 1         ; accuracy of LINCS\n",
    "lincs_order             = 4         ; also related to accuracy\n",
    "; Nonbonded settings \n",
    "cutoff-scheme           = Verlet    ; Buffered neighbor searching\n",
    "ns_type                 = grid      ; search neighboring grid cells\n",
    "nstlist                 = 10        ; 20 fs, largely irrelevant with Verlet scheme\n",
    "rcoulomb                = 1.0       ; short-range electrostatic cutoff (in nm)\n",
    "rvdw                    = 1.0       ; short-range van der Waals cutoff (in nm)\n",
    "DispCorr                = EnerPres  ; account for cut-off vdW scheme\n",
    "; Electrostatics\n",
    "coulombtype             = PME       ; Particle Mesh Ewald for long-range electrostatics\n",
    "pme_order               = 4         ; cubic interpolation\n",
    "fourierspacing          = 0.16      ; grid spacing for FFT\n",
    "; Temperature coupling is on\n",
    "tcoupl                  = V-rescale             ; modified Berendsen thermostat\n",
    "tc-grps                 = Protein Non-Protein   ; two coupling groups - more accurate\n",
    "tau_t                   = 0.1     0.1           ; time constant, in ps\n",
    "ref_t                   = 300     300           ; reference temperature, one for each group, in K\n",
    "; Pressure coupling is on\n",
    "; ljocha pcoupl                  = Parrinello-Rahman     ; Pressure coupling on in NPT\n",
    "pcoupl = C-rescale\n",
    "pcoupltype              = isotropic             ; uniform scaling of box vectors\n",
    "; ljocha tau_p                   = 2.0                   ; time constant, in ps\n",
    "tau_p = 5.0\n",
    "ref_p                   = 1.0                   ; reference pressure, in bar\n",
    "compressibility         = 4.5e-5                ; isothermal compressibility of water, bar^-1\n",
    "refcoord_scaling        = com\n",
    "; Periodic boundary conditions\n",
    "pbc                     = xyz       ; 3-D PBC\n",
    "; Velocity generation\n",
    "gen_vel                 = no        ; Velocity generation is off \n",
    "''')"
   ]
  },
  {
   "cell_type": "code",
   "execution_count": null,
   "id": "4dc6b318-2d09-45f6-8ed5-44859dab0b31",
   "metadata": {},
   "outputs": [],
   "source": [
    "gmx.grompp(f=\"npt.mdp\",c=\"nvt.gro\",r=\"nvt.gro\",p=pdb+'.top',o=\"npt.tpr\")"
   ]
  },
  {
   "cell_type": "code",
   "execution_count": null,
   "id": "3a289dd1-8e4c-43b4-b89a-766b9570ab29",
   "metadata": {},
   "outputs": [],
   "source": [
    "gmx.mdrun(deffnm='npt')"
   ]
  },
  {
   "cell_type": "markdown",
   "id": "01772a3f",
   "metadata": {},
   "source": []
  },
  {
   "cell_type": "markdown",
   "id": "7ae76e83-e040-485e-a8d8-a518fab2bae4",
   "metadata": {
    "slideshow": {
     "slide_type": "slide"
    }
   },
   "source": [
    "Zobrazení výsledných průběhů tlaku, teploty a hustoty"
   ]
  },
  {
   "cell_type": "code",
   "execution_count": null,
   "id": "220bbae9-33dc-46b9-9892-356def461eb6",
   "metadata": {},
   "outputs": [],
   "source": [
    "gmx.energy(f='npt.edr',o='press.xvg',input='Pressure')\n",
    "gmx.energy(f='npt.edr',o='dens.xvg',input='Density')\n",
    "gmx.energy(f='npt.edr',o='temp.xvg',input='Temperature')"
   ]
  },
  {
   "cell_type": "code",
   "execution_count": null,
   "id": "19826680-936f-4c04-bf65-e46f4dbdc837",
   "metadata": {
    "slideshow": {
     "slide_type": "-"
    }
   },
   "outputs": [],
   "source": [
    "import numpy as np\n",
    "import matplotlib.pyplot as plt\n",
    "\n",
    "temp = np.loadtxt('temp.xvg',comments=['#','@'])\n",
    "press = np.loadtxt('press.xvg',comments=['#','@'])\n",
    "dens = np.loadtxt('dens.xvg',comments=['#','@'])\n",
    "\n",
    "plt.figure(figsize=(15,9))\n",
    "plt.subplot(311)\n",
    "plt.plot(press[:,0],press[:,1])\n",
    "plt.title('isothermal-isobaric equilibration')\n",
    "plt.grid()\n",
    "#plt.xlabel('time (ps)')\n",
    "plt.ylabel(\"pressure (bar)\")\n",
    "\n",
    "plt.subplot(312)\n",
    "plt.ylabel('density (kg/m3)')\n",
    "plt.grid()\n",
    "plt.plot(dens[:,0],dens[:,1])\n",
    "\n",
    "plt.subplot(313)\n",
    "plt.xlabel('time (ps)')\n",
    "plt.ylabel('temperature (K)')\n",
    "plt.grid()\n",
    "plt.plot(temp[:,0],temp[:,1])\n",
    "\n",
    "plt.show()"
   ]
  },
  {
   "cell_type": "markdown",
   "id": "8ff700c4",
   "metadata": {},
   "source": []
  },
  {
   "cell_type": "markdown",
   "id": "f8ecffc3-e085-4dbf-96ee-9d4f1eaa6a03",
   "metadata": {
    "slideshow": {
     "slide_type": "slide"
    }
   },
   "source": [
    "## Kam s ním?\n",
    "\n",
    "- vlastní notebook (se samostatnou GPU)\n",
    "- vlastní server pod stolem\n",
    "- cloudová služba, nejlépe JupyterHub\n",
    "  - https://hub.cloud.e-infra.cz/\n",
    "  - zdroje jsou sdíleny, plýtvání se netoleruje\n"
   ]
  },
  {
   "cell_type": "markdown",
   "id": "4c85db96",
   "metadata": {
    "slideshow": {
     "slide_type": "slide"
    }
   },
   "source": [
    "## Kubernetes, další kontejnery a více zdrojů\n",
    "- JupyterHub běží v Kubernetes\n",
    "- pro samotný notebook alokujeme málo\n",
    "  - 1--2 jádra CPU\n",
    "  - 2--16 GB RAM (zejména nároky na vizualizaci)\n",
    "  - bez GPU\n",
    "- náročné výpočty spouštíme jako další kontejnery\n",
    "  - alokace zdrojů podle potřeby\n",
    "  - jen když jsou skutečně třeba\n",
    "  - sdílený volume, případně sofistikovanější IPC"
   ]
  },
  {
   "cell_type": "code",
   "execution_count": null,
   "id": "6a297a09-4037-4bb8-8f16-e058fa4d1787",
   "metadata": {
    "slideshow": {
     "slide_type": "slide"
    }
   },
   "outputs": [],
   "source": [
    "mdrunner=gmx.MDrunnerK8s(\n",
    "    image='cerit.io/ljocha/gromacs:2023-2-plumed-2-9-afed-pytorch-model-cv',\n",
    "    workdir='europen2024'\n",
    ")\n",
    "\n",
    "def k8s_mdrun(mpi=1,omp=2,gpus=1,retry=10,**kwargs):\n",
    "    mdrunner.run(\n",
    "        pre={'cores':omp*mpi,'mpi':mpi,'omp':omp,'gpus':gpus, 'retry': retry},\n",
    "        mdrunargs={**kwargs,'ntomp':omp},\n",
    "        ncores=mpi\n",
    "    )"
   ]
  },
  {
   "cell_type": "code",
   "execution_count": null,
   "id": "893e6daa",
   "metadata": {
    "slideshow": {
     "slide_type": "slide"
    }
   },
   "outputs": [],
   "source": [
    "time = 500 #ps\n",
    "nsteps = time * 500 # XXX: dt = 0.002\n",
    "\n",
    "with open('md.mdp','w') as mdp: mdp.write(f'''\\\n",
    "integrator              = md        ; leap-frog integrator\n",
    "dt                      = 0.002     ; 2 fs\n",
    "; Output control\n",
    "nstxout                 = 0         ; suppress bulky .trr file by specifying \n",
    "nstvout                 = 0         ; 0 for output frequency of nstxout,\n",
    "nstfout                 = 0         ; nstvout, and nstfout\n",
    "nstenergy               = 5000      ; save energies every 10.0 ps\n",
    "nstlog                  = 5000      ; update log file every 10.0 ps\n",
    "nstxout-compressed      = 5000      ; save compressed coordinates every 10.0 ps\n",
    "compressed-x-grps       = System    ; save the whole system\n",
    "; Bond parameters\n",
    "continuation            = yes       ; Restarting after NPT \n",
    "constraint_algorithm    = lincs     ; holonomic constraints \n",
    "constraints             = h-bonds   ; bonds involving H are constrained\n",
    "lincs_iter              = 1         ; accuracy of LINCS\n",
    "lincs_order             = 4         ; also related to accuracy\n",
    "; Neighborsearching\n",
    "cutoff-scheme           = Verlet    ; Buffered neighbor searching\n",
    "ns_type                 = grid      ; search neighboring grid cells\n",
    "nstlist                 = 10        ; 20 fs, largely irrelevant with Verlet scheme\n",
    "rcoulomb                = 1.0       ; short-range electrostatic cutoff (in nm)\n",
    "rvdw                    = 1.0       ; short-range van der Waals cutoff (in nm)\n",
    "; Electrostatics\n",
    "coulombtype             = PME       ; Particle Mesh Ewald for long-range electrostatics\n",
    "pme_order               = 4         ; cubic interpolation\n",
    "fourierspacing          = 0.16      ; grid spacing for FFT\n",
    "; Temperature coupling is on\n",
    "tcoupl                  = V-rescale             ; modified Berendsen thermostat\n",
    "tc-grps                 = Protein Non-Protein   ; two coupling groups - more accurate\n",
    "tau_t                   = 0.1     0.1           ; time constant, in ps\n",
    "ref_t                   = 300     300           ; reference temperature, one for each group, in K\n",
    "; Pressure coupling is on\n",
    "pcoupl                  = Parrinello-Rahman     ; Pressure coupling on in NPT\n",
    "pcoupltype              = isotropic             ; uniform scaling of box vectors\n",
    "tau_p                   = 2.0                   ; time constant, in ps\n",
    "ref_p                   = 1.0                   ; reference pressure, in bar\n",
    "compressibility         = 4.5e-5                ; isothermal compressibility of water, bar^-1\n",
    "; Periodic boundary conditions\n",
    "pbc                     = xyz       ; 3-D PBC\n",
    "; Dispersion correction\n",
    "DispCorr                = EnerPres  ; account for cut-off vdW scheme\n",
    "; Velocity generation\n",
    "gen_vel                 = no        ; Velocity generation is off \n",
    "nsteps = {nsteps}\n",
    "''')\n",
    "gmx.grompp(f=\"md.mdp\",c=\"npt.gro\",r=\"npt.gro\",p=pdb+'.top',o=\"md.tpr\")"
   ]
  },
  {
   "cell_type": "code",
   "execution_count": null,
   "id": "5d8498e7",
   "metadata": {},
   "outputs": [],
   "source": [
    "k8s_mdrun(mpi=1,omp=2,deffnm='md',retry=2)"
   ]
  },
  {
   "cell_type": "code",
   "execution_count": null,
   "id": "7ba3c763",
   "metadata": {},
   "outputs": [],
   "source": [
    "gmx.trjconv(f='md.xtc',s='npt.gro',fit='progressive',input='Protein Protein'.split(),o=f'{pdb}-protein.xtc')\n",
    "gmx.trjconv(f=f'{pdb}-protein.xtc',s=f'{pdb}-box.gro',pbc='nojump',input='Protein',o=f'{pdb}-pbc.xtc')"
   ]
  },
  {
   "cell_type": "code",
   "execution_count": null,
   "id": "55c86429",
   "metadata": {},
   "outputs": [],
   "source": [
    "tr = md.load(f'{pdb}-pbc.xtc',top=f'{pdb}-box.gro')\n",
    "_fw(nv.show_mdtraj(tr))"
   ]
  },
  {
   "cell_type": "markdown",
   "id": "ced6735b",
   "metadata": {},
   "source": []
  },
  {
   "cell_type": "markdown",
   "id": "a7f4fbe2",
   "metadata": {
    "slideshow": {
     "slide_type": "slide"
    }
   },
   "source": [
    "## Bumbrlíčci\n",
    "- ideje vs. realita\n",
    "  - původní záměr -- microservices\n",
    "  - NVidia, AMD, pyTorch, TensorFlow, ... koncept rozbili\n",
    "  - akademické prostředí nezůstává pozadu\n",
    "- co s tím\n",
    "  - není to dobře a někdy to ani nejde\n",
    "  - oddělujme alespoň velké softwarové balíky\n",
    "  - využijme prostředky K8s, klidně ad hoc\n",
    "- režie startu kontejneru\n",
    "  - rozsáhlejší výpočet ji amortizuje\n",
    "  - pro krátké rychloobrátkové \"sidecar\""
   ]
  },
  {
   "cell_type": "markdown",
   "id": "03a23d18",
   "metadata": {
    "slideshow": {
     "slide_type": "slide"
    }
   },
   "source": [
    "https://gitlab.ics.muni.cz/3086/ASMSA/-/blob/master/gmx-wrap2.sh\n",
    "```\n",
    "...\n",
    "kubectl get job/asmsa-gmx 2>/dev/null >/dev/null || kubectl apply -f - >&2 <<EOF\n",
    "apiVersion: batch/v1\n",
    "kind: Job\n",
    "metadata:\n",
    "  name: asmsa-gmx\n",
    "spec:\n",
    "...\n",
    "      containers:\n",
    "      - image: cerit.io/ljocha/gromacs:2023-2-plumed-2-9-afed-pytorch-model-cv-2\n",
    "...\n",
    "        resources:\n",
    "          requests:\n",
    "            cpu: '.1'\n",
    "            memory: 8Gi\n",
    "            nvidia.com/gpu: 0\n",
    "...\n",
    "EOF\n",
    "kcmd=\"cd /mnt/ && gmx ...\"\n",
    "kubectl wait --for=condition=ready pod -l job=asmsa-gmx >&2\n",
    "kubectl exec job/asmsa-gmx -- bash -c \"$kcmd <<<\\\"$input\\\"\"\n",
    "```"
   ]
  },
  {
   "cell_type": "markdown",
   "id": "912c1afd-8a40-4e2b-88a7-933fb855e026",
   "metadata": {
    "slideshow": {
     "slide_type": "slide"
    }
   },
   "source": [
    "## Služba pro širší komunitu\n",
    "- typicky průvodní jev publikace\n",
    "  - učesaný kód\n",
    "  - obsáhlejší komentáře a návody\n",
    "- vlastní instance JupyterHubu\n",
    "  - předepsaný konkrétní image\n",
    "  - zdroje nastavené tak akorát\n",
    "  - federovaná autentizace, vzájemná izolace uživatelů\n",
    "  - https://metadynminer.dyn.cloud.e-infra.cz\n",
    "  - https://github.com/Jan8be/metadynminer.py\n",
    "- anonymní spuštění na https://mybinder.org/"
   ]
  },
  {
   "cell_type": "markdown",
   "id": "d4e708bd-bb01-44c1-a6a6-1ada38852e7f",
   "metadata": {
    "slideshow": {
     "slide_type": "slide"
    }
   },
   "source": [
    "## Research in progress\n",
    "- střídavé fáze úklidu a přirozeného vývoje\n",
    "- notebooky jako efektivní interdisciplinární komunikační platforma :-)\n",
    "- https://hub.cloud.e-infra.cz/user/ljocha/asmsa-24-8\n",
    "- https://gitlab.ics.muni.cz/3086/ASMSA"
   ]
  },
  {
   "cell_type": "markdown",
   "id": "94b3cf97-2733-485e-bfaf-712de72f9735",
   "metadata": {
    "slideshow": {
     "slide_type": "slide"
    }
   },
   "source": [
    "## GUI"
   ]
  },
  {
   "cell_type": "code",
   "execution_count": null,
   "id": "b58ffa74",
   "metadata": {},
   "outputs": [],
   "source": [
    "gmx.energy(f='md.edr',o=f'{pdb}-potential.xvg',input='Potential')\n",
    "energy = np.loadtxt(f'{pdb}-potential.xvg',comments=['#','@'])"
   ]
  },
  {
   "cell_type": "code",
   "execution_count": null,
   "id": "5a1fb6c4-de4d-462c-a833-8744bdc44ecf",
   "metadata": {},
   "outputs": [],
   "source": [
    "import ipywidgets as w\n",
    "import plotly.graph_objects as go\n",
    "\n",
    "def _frame(e):\n",
    "    egr.data[1].x = [e.new]\n",
    "    egr.data[1].y = [energy[e.new,1]]\n",
    "\n",
    "tr = md.load(f'{pdb}-pbc.xtc',top=f'{pdb}-box.gro')\n",
    "frame = w.IntSlider(description='Frame',min=0,max=len(tr)-1,layout=w.Layout(width='100%', display='flex'))\n",
    "frame.observe(_frame,'value')\n",
    "view = nv.show_mdtraj(tr)\n",
    "egr = go.FigureWidget(data=[\n",
    "    go.Scatter(\n",
    "        x=np.arange(len(tr)),y=energy[:,1],\n",
    "        marker=go.scatter.Marker(color='blue')\n",
    "    ),\n",
    "    go.Scatter(\n",
    "        x=[0],y=[energy[0,1]],\n",
    "        marker=go.scatter.Marker(line=dict(width=5),symbol=100,size=15,color='red')\n",
    "    )\n",
    "])\n",
    "\n",
    "def _rep(e):\n",
    "\t\tview.clear()\n",
    "\t\tif licorice.value:\n",
    "\t\t\tview.add_licorice()\n",
    "\t\tif cartoon.value:\n",
    "\t\t\tview.add_cartoon(color='residueindex')\n",
    "\n",
    "licorice = w.Checkbox(description='Licorice',value=False)\n",
    "cartoon = w.Checkbox(description='Cartoon',value=True)\n",
    "licorice.observe(_rep,'value')\n",
    "cartoon.observe(_rep,'value')\n",
    "\n",
    "w.link((frame,'value'), (view,'frame'))\n",
    "w.VBox([w.HBox([view,w.VBox([licorice,cartoon])]),egr,frame])"
   ]
  },
  {
   "cell_type": "markdown",
   "id": "2b5d2e0b",
   "metadata": {},
   "source": [
    "- Voila: nadstavba nad Jupyterem, zobrazí jen výstup\n",
    "- https://gromacs-hub.dyn.cloud.e-infra.cz"
   ]
  },
  {
   "cell_type": "markdown",
   "id": "7ac20292",
   "metadata": {
    "slideshow": {
     "slide_type": "slide"
    }
   },
   "source": [
    "## Shrnutí\n",
    "- od osobního chaosu k otevřené vědě\n",
    "- efektivní nástroj pro týmovou práci\n",
    "- nerovnoměrné využití infrastruktury bez plýtvání\n",
    "- spojitá škála od experimenálního kódu k aplikaci pro koncové uživatele"
   ]
  },
  {
   "cell_type": "code",
   "execution_count": null,
   "id": "49d33d5d",
   "metadata": {},
   "outputs": [],
   "source": []
  }
 ],
 "metadata": {
  "celltoolbar": "Slideshow",
  "kernelspec": {
   "display_name": "Python 3 (ipykernel)",
   "language": "python",
   "name": "python3"
  },
  "language_info": {
   "codemirror_mode": {
    "name": "ipython",
    "version": 3
   },
   "file_extension": ".py",
   "mimetype": "text/x-python",
   "name": "python",
   "nbconvert_exporter": "python",
   "pygments_lexer": "ipython3",
   "version": "3.11.9"
  },
  "rise": {
   "backimage": "Prezentace-slide-einfra2.png",
   "scroll": true,
   "theme": "white"
  }
 },
 "nbformat": 4,
 "nbformat_minor": 5
}
