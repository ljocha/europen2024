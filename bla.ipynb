{
 "cells": [
  {
   "cell_type": "markdown",
   "id": "ab2eebb0-954a-489c-9d64-78402e412772",
   "metadata": {},
   "source": [
    "# Jupyter Notebooks už jen ve vědě\n",
    "\n",
    "## Aleš Křenek\n",
    "\n",
    "### ÚVT MU"
   ]
  },
  {
   "cell_type": "markdown",
   "id": "43484611-0770-4f5e-9e4c-c6441fb8201d",
   "metadata": {
    "slideshow": {
     "slide_type": "slide"
    }
   },
   "source": [
    "## Lenost nade vše\n",
    "\n",
    "- nebudu vymýšlet nic nového, recykluji existující materiál\n",
    "- zkušeností s vlatním nepořádkem k tomu mám dost\n",
    "- aplikace, které z toho vyrostly\n",
    "- tato prezentace je také Jupyter Notebook"
   ]
  },
  {
   "cell_type": "markdown",
   "id": "1b98e5e3-9212-41f0-9200-256890fd0acc",
   "metadata": {},
   "source": [
    "## Molekulární dynamika"
   ]
  },
  {
   "cell_type": "markdown",
   "id": "1a49390a-03d3-44ff-9bfd-cc40f6a68cc1",
   "metadata": {},
   "source": [
    "## Standardní simulace proteinu\n",
    "Podle tutoriálu http://www.mdtutorials.com/gmx/lysozyme/"
   ]
  },
  {
   "cell_type": "markdown",
   "id": "f8ecffc3-e085-4dbf-96ee-9d4f1eaa6a03",
   "metadata": {},
   "source": [
    "## Kam s ním?\n"
   ]
  },
  {
   "cell_type": "markdown",
   "id": "912c1afd-8a40-4e2b-88a7-933fb855e026",
   "metadata": {},
   "source": [
    "## Služba pro širší komunitu"
   ]
  },
  {
   "cell_type": "markdown",
   "id": "47cf06b2-99ee-4554-b655-e54bc16473d6",
   "metadata": {},
   "source": [
    "## Kubernetes, další kontejnery a více zdrojů"
   ]
  },
  {
   "cell_type": "markdown",
   "id": "d4e708bd-bb01-44c1-a6a6-1ada38852e7f",
   "metadata": {},
   "source": [
    "## Research in progress"
   ]
  },
  {
   "cell_type": "markdown",
   "id": "94b3cf97-2733-485e-bfaf-712de72f9735",
   "metadata": {},
   "source": [
    "## GUI"
   ]
  },
  {
   "cell_type": "code",
   "execution_count": null,
   "id": "49c8dacf-217d-4fb7-96cd-83163f7f3bf9",
   "metadata": {},
   "outputs": [],
   "source": []
  }
 ],
 "metadata": {
  "celltoolbar": "Slideshow",
  "kernelspec": {
   "display_name": "Python 3 (ipykernel)",
   "language": "python",
   "name": "python3"
  },
  "language_info": {
   "codemirror_mode": {
    "name": "ipython",
    "version": 3
   },
   "file_extension": ".py",
   "mimetype": "text/x-python",
   "name": "python",
   "nbconvert_exporter": "python",
   "pygments_lexer": "ipython3",
   "version": "3.11.9"
  }
 },
 "nbformat": 4,
 "nbformat_minor": 5
}
